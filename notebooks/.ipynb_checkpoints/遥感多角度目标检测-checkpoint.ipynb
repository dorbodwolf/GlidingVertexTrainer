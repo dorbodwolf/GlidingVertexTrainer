{
 "cells": [
  {
   "cell_type": "markdown",
   "metadata": {},
   "source": [
    "## 1. 多角度目标检测方法综述\n",
    "### 1）旋转bbox检测方法\n",
    "角度预测的准确性差，对遥感图像上的长目标如桥梁、港湾的预测效果差。\n",
    "### 2）四边形检测方法\n",
    "对于定义GT的四个角点顺序造成混淆，存在四边形的边界问题。**Gliding Vertex**和**RSDet**就是其中的两个方法，都试图去补救边界预测问题，但是没有从深层次去彻底解决这个问题。\n",
    "### 3）用分割mask来描述对象\n",
    "需要分割、合并等后处理，耗时长"
   ]
  },
  {
   "cell_type": "markdown",
   "metadata": {},
   "source": [
    "## 2. Gliding Vertex训练器\n",
    "Gliding vertex on the horizontal bounding box for multi-oriented object detection"
   ]
  },
  {
   "cell_type": "code",
   "execution_count": null,
   "metadata": {},
   "outputs": [],
   "source": []
  }
 ],
 "metadata": {
  "kernelspec": {
   "display_name": "Python 3.6.9 64-bit",
   "language": "python",
   "name": "python36964bit7641b470134d45dab450103a75077cae"
  },
  "language_info": {
   "codemirror_mode": {
    "name": "ipython",
    "version": 3
   },
   "file_extension": ".py",
   "mimetype": "text/x-python",
   "name": "python",
   "nbconvert_exporter": "python",
   "pygments_lexer": "ipython3",
   "version": "3.6.9"
  }
 },
 "nbformat": 4,
 "nbformat_minor": 4
}
